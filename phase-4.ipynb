{
 "cells": [
  {
   "cell_type": "markdown",
   "id": "49ce08b6",
   "metadata": {},
   "source": []
  },
  {
   "cell_type": "code",
   "execution_count": 2,
   "id": "470b30e0",
   "metadata": {},
   "outputs": [],
   "source": [
    "import numpy as np\n",
    "import matplotlib.pyplot as plt"
   ]
  },
  {
   "cell_type": "code",
   "execution_count": null,
   "id": "2bb92018",
   "metadata": {},
   "outputs": [],
   "source": [
    "# creating np array in different values \n",
    "array1 = np.array([[1, 3, 4], [6, 2, 9]])\n",
    "array2 = np.random.rand(3, 3)\n",
    "array3 = np.zeros((4, 4))"
   ]
  },
  {
   "cell_type": "code",
   "execution_count": 10,
   "id": "caa04eee",
   "metadata": {},
   "outputs": [],
   "source": [
    "# save np array in npy format\n",
    "np.save('data/array1.npy', array1)\n",
    "np.save(\"data/array2.npy\", array2)\n",
    "np.save(\"data/array3.npy\", array3)"
   ]
  },
  {
   "cell_type": "code",
   "execution_count": 12,
   "id": "ceeee675",
   "metadata": {},
   "outputs": [
    {
     "name": "stdout",
     "output_type": "stream",
     "text": [
      "[[1 3 4]\n",
      " [6 2 9]]\n",
      "[[0.33863958 0.89542468 0.56192272]\n",
      " [0.41722352 0.45653293 0.67080765]\n",
      " [0.60697168 0.69927961 0.52849788]]\n"
     ]
    }
   ],
   "source": [
    "# load the files in the np\n",
    "loaded_array1 = np.load(\"data/array1.npy\")\n",
    "print(loaded_array1)\n",
    "\n",
    "loaded_array2 = np.load(\"data/array2.npy\")\n",
    "print(loaded_array2)"
   ]
  },
  {
   "cell_type": "code",
   "execution_count": null,
   "id": "0936dd9e",
   "metadata": {},
   "outputs": [],
   "source": [
    "# operation with pictures"
   ]
  }
 ],
 "metadata": {
  "kernelspec": {
   "display_name": ".venv",
   "language": "python",
   "name": "python3"
  },
  "language_info": {
   "codemirror_mode": {
    "name": "ipython",
    "version": 3
   },
   "file_extension": ".py",
   "mimetype": "text/x-python",
   "name": "python",
   "nbconvert_exporter": "python",
   "pygments_lexer": "ipython3",
   "version": "3.10.10"
  }
 },
 "nbformat": 4,
 "nbformat_minor": 5
}
