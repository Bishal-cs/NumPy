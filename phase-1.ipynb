{
 "cells": [
  {
   "cell_type": "markdown",
   "id": "2a3f10b4",
   "metadata": {},
   "source": [
    "## Numpy Array and Basics"
   ]
  },
  {
   "cell_type": "code",
   "execution_count": 5,
   "id": "dcdb94be",
   "metadata": {},
   "outputs": [],
   "source": [
    "import numpy as np\n",
    "import time "
   ]
  },
  {
   "cell_type": "markdown",
   "id": "2486c278",
   "metadata": {},
   "source": [
    "### Creating array from list"
   ]
  },
  {
   "cell_type": "code",
   "execution_count": 6,
   "metadata": {},
   "outputs": [
    {
     "name": "stdout",
     "output_type": "stream",
     "text": [
      "1D array------\n",
      "[1 2 3]\n",
      "2D array------\n",
      "[[1 2 3]\n",
      " [4 5 6]]\n",
      "3D array------\n",
      "[[[ 1  2  3]\n",
      "  [ 4  5  6]]\n",
      "\n",
      " [[ 7  8  9]\n",
      "  [10 11 12]]]\n"
     ]
    }
   ],
   "source": [
    "arr_1d = np.array([1, 2, 3])\n",
    "print(f\"1D array------\\n{arr_1d}\")\n",
    "\n",
    "arr_2d = np.array([[1, 2, 3], [4, 5, 6]])\n",
    "print(f\"2D array------\\n{arr_2d}\")\n",
    "\n",
    "arr_3d = np.array([[[1, 2, 3], [4, 5, 6]], [[7, 8, 9], [10, 11, 12]]])\n",
    "print(f\"3D array------\\n{arr_3d}\")"
   ]
  },
  {
   "cell_type": "markdown",
   "id": "8aab81a5",
   "metadata": {},
   "source": [
    "### list vs numpy array"
   ]
  },
  {
   "cell_type": "code",
   "execution_count": 7,
   "id": "0e93605f",
   "metadata": {},
   "outputs": [
    {
     "name": "stdout",
     "output_type": "stream",
     "text": [
      "Puthon List Multiplied by 2------\n",
      "[1, 2, 4, 6, 8, 1, 2, 4, 6, 8]\n",
      "NumPy Array Multiplied by 2------\n",
      "[ 2  4  8 12 16]\n"
     ]
    }
   ],
   "source": [
    "py_list = [1, 2, 4, 6, 8]\n",
    "print(f\"Puthon List Multiplied by 2------\\n{py_list * 2}\")\n",
    "\n",
    "np_array = np.array([1, 2, 4, 6, 8])    # Element Wise Multiplication\n",
    "print(f\"NumPy Array Multiplied by 2------\\n{np_array * 2}\")"
   ]
  },
  {
   "cell_type": "markdown",
   "id": "5181256a",
   "metadata": {},
   "source": [
    "#### Know the time to process this \n",
    "\n"
   ]
  },
  {
   "cell_type": "code",
   "execution_count": 10,
   "id": "cacc1aef",
   "metadata": {},
   "outputs": [
    {
     "name": "stdout",
     "output_type": "stream",
     "text": [
      "\n",
      " List operation time = 0.05513501167297363\n",
      "\n",
      " NumPy Array operation time = 0.003007173538208008\n"
     ]
    }
   ],
   "source": [
    "start = time.time()\n",
    "py_list = [i*2 for i in range(1000000)]\n",
    "print(f\"\\n List operation time = {time.time() - start}\")\n",
    "\n",
    "start = time.time()\n",
    "np_array = np.arange(1000000) * 2\n",
    "print(f\"\\n NumPy Array operation time = {time.time() - start}\")"
   ]
  },
  {
   "cell_type": "markdown",
   "id": "19806e84",
   "metadata": {},
   "source": [
    "### Creating Array from Scratch "
   ]
  },
  {
   "cell_type": "code",
   "execution_count": 17,
   "id": "ec5eafbc",
   "metadata": {},
   "outputs": [
    {
     "name": "stdout",
     "output_type": "stream",
     "text": [
      "zeros array------\n",
      "[[0. 0. 0.]\n",
      " [0. 0. 0.]\n",
      " [0. 0. 0.]]\n",
      "ones array------\n",
      "[[1. 1. 1.]\n",
      " [1. 1. 1.]\n",
      " [1. 1. 1.]]\n",
      "full array------\n",
      "[[5 5 5]\n",
      " [5 5 5]\n",
      " [5 5 5]]\n",
      "random array------\n",
      "[[0.93074277 0.74088945 0.07626134]\n",
      " [0.92006615 0.85788449 0.42391741]\n",
      " [0.97846639 0.22642138 0.76457516]]\n",
      "sequence array------\n",
      "[ 0  2  4  6  8 10]\n"
     ]
    }
   ],
   "source": [
    "zeros = np.zeros((3, 3))\n",
    "print(f\"zeros array------\\n{zeros}\")\n",
    "\n",
    "ones = np.ones((3, 3))\n",
    "print(f\"ones array------\\n{ones}\")\n",
    "\n",
    "full = np.full((3, 3), 5)\n",
    "print(f\"full array------\\n{full}\")\n",
    "\n",
    "random = np.random.random((3, 3))\n",
    "print(f\"random array------\\n{random}\")\n",
    "\n",
    "sequence = np.arange(0, 11, 2)\n",
    "print(f\"sequence array------\\n{sequence}\")\n"
   ]
  },
  {
   "cell_type": "markdown",
   "id": "e80da0ba",
   "metadata": {},
   "source": [
    "### Vector, Matrix & Tensor  "
   ]
  },
  {
   "cell_type": "code",
   "execution_count": 20,
   "id": "123adb2d",
   "metadata": {},
   "outputs": [
    {
     "name": "stdout",
     "output_type": "stream",
     "text": [
      "Vector: [1 2 3]\n",
      "Matrix: \n",
      "[[1 2 3]\n",
      " [4 5 6]]\n",
      "Tensors: \n",
      "[[[1 2]\n",
      "  [3 4]\n",
      "  [4 5]]]\n"
     ]
    }
   ],
   "source": [
    "vector = np.array([1, 2, 3])\n",
    "print(f\"Vector: {vector}\")\n",
    "\n",
    "matrix = np.array([[1, 2, 3],\n",
    "                   [4, 5, 6]])\n",
    "print(f\"Matrix: \\n{matrix}\")\n",
    "\n",
    "tensor = np.array([[[1, 2],\n",
    "                    [3, 4],\n",
    "                    [4, 5]]])\n",
    "print(f\"Tensors: \\n{tensor}\")"
   ]
  },
  {
   "cell_type": "markdown",
   "id": "14f265c4",
   "metadata": {},
   "source": [
    "## Array Properties"
   ]
  },
  {
   "cell_type": "code",
   "execution_count": 22,
   "id": "537ecc82",
   "metadata": {},
   "outputs": [
    {
     "name": "stdout",
     "output_type": "stream",
     "text": [
      "Shape of array:  (2, 3)\n",
      "Dimension of array:  2\n",
      "Size of array:  6\n",
      "Data type of array:  int64\n"
     ]
    }
   ],
   "source": [
    "arr = np.array([[1, 2, 3],\n",
    "                [5, 6, 7]])\n",
    "print(\"Shape of array: \", arr.shape)\n",
    "print(\"Dimension of array: \", arr.ndim)\n",
    "print(\"Size of array: \", arr.size)\n",
    "print(\"Data type of array: \", arr.dtype)"
   ]
  },
  {
   "cell_type": "markdown",
   "id": "50fd8762",
   "metadata": {},
   "source": [
    "#### Array Reshaping\n"
   ]
  },
  {
   "cell_type": "code",
   "execution_count": null,
   "id": "67b3a99a",
   "metadata": {},
   "outputs": [],
   "source": [
    "arr = np.arange(12)\n",
    "print(f\"Original array \",arr)\n",
    "\n",
    "reshape_arr = arr.reshape((3, 4))\n"
   ]
  }
 ],
 "metadata": {
  "kernelspec": {
   "display_name": ".venv",
   "language": "python",
   "name": "python3"
  },
  "language_info": {
   "codemirror_mode": {
    "name": "ipython",
    "version": 3
   },
   "file_extension": ".py",
   "mimetype": "text/x-python",
   "name": "python",
   "nbconvert_exporter": "python",
   "pygments_lexer": "ipython3",
   "version": "3.10.10"
  }
 },
 "nbformat": 4,
 "nbformat_minor": 5
}
