{
 "cells": [
  {
   "cell_type": "markdown",
   "id": "6244d8b5",
   "metadata": {},
   "source": [
    "<div align=\"center\">\n",
    "\n",
    "# ***HELLO WORLD!***\n",
    "\n",
    "</div>"
   ]
  },
  {
   "cell_type": "markdown",
   "id": "bdc3e85e",
   "metadata": {},
   "source": [
    "<div align=\"center\">\n",
    "\n",
    "### **welcome to the class guys**\n",
    "\n",
    "</div>"
   ]
  },
  {
   "cell_type": "markdown",
   "id": "26a0e5c1",
   "metadata": {},
   "source": [
    "![Hello World](images/Komi_San_Maid_Outfit_Python.png)"
   ]
  },
  {
   "cell_type": "markdown",
   "id": "5f579b70",
   "metadata": {},
   "source": [
    "<div align=\"left\">\n",
    "\n",
    "<b>\n",
    "The First Print !\n",
    "</b>\n",
    "\n",
    "</div>"
   ]
  },
  {
   "cell_type": "code",
   "execution_count": 1,
   "id": "441b81bf",
   "metadata": {},
   "outputs": [
    {
     "data": {
      "text/plain": [
       "'hello world!'"
      ]
     },
     "execution_count": 1,
     "metadata": {},
     "output_type": "execute_result"
    }
   ],
   "source": [
    "\"hello world!\""
   ]
  },
  {
   "cell_type": "code",
   "execution_count": 2,
   "id": "9f17d5c8",
   "metadata": {},
   "outputs": [
    {
     "name": "stdout",
     "output_type": "stream",
     "text": [
      "hello world!\n"
     ]
    }
   ],
   "source": [
    "print(\"hello world!\")"
   ]
  },
  {
   "cell_type": "markdown",
   "id": "a4fa973b",
   "metadata": {},
   "source": [
    "<div align=\"left\">\n",
    "\n",
    "### **Understanding the `print()` Function in Python**\n",
    "\n",
    "The `print()` function in Python is used to output text or other data to the console. Below is the syntax of the `print()` function:\n",
    "\n"
   ]
  },
  {
   "cell_type": "code",
   "execution_count": 3,
   "id": "ab927db7",
   "metadata": {},
   "outputs": [
    {
     "name": "stdout",
     "output_type": "stream",
     "text": [
      "Hello, World!\n"
     ]
    }
   ],
   "source": [
    "# 1. Basic Print\n",
    "print(\"Hello, World!\")"
   ]
  },
  {
   "cell_type": "code",
   "execution_count": 4,
   "id": "644e903f",
   "metadata": {},
   "outputs": [
    {
     "name": "stdout",
     "output_type": "stream",
     "text": [
      "Hello World 2025\n"
     ]
    }
   ],
   "source": [
    "# 2. Multiple Arguments\n",
    "print(\"Hello\", \"World\", 2025)"
   ]
  },
  {
   "cell_type": "code",
   "execution_count": 5,
   "id": "b39ea3f3",
   "metadata": {},
   "outputs": [
    {
     "name": "stdout",
     "output_type": "stream",
     "text": [
      "Hello 🌍 World\n"
     ]
    }
   ],
   "source": [
    "# 3. Custom Separator: sep\n",
    "print(\"Hello\", \"World\", sep=\" 🌍 \")\n"
   ]
  },
  {
   "cell_type": "code",
   "execution_count": 6,
   "id": "98af0e57",
   "metadata": {},
   "outputs": [
    {
     "name": "stdout",
     "output_type": "stream",
     "text": [
      "Hello...World\n"
     ]
    }
   ],
   "source": [
    "# 4. Custom Line Ending: end\n",
    "print(\"Hello\", end=\"...\")\n",
    "print(\"World\")"
   ]
  },
  {
   "cell_type": "code",
   "execution_count": 7,
   "id": "e42a3215",
   "metadata": {},
   "outputs": [],
   "source": [
    "# 5. Output to File: file\n",
    "with open(r\"log.txt\", \"w\") as f:\n",
    "    print(\"Log entry: Hello World\", file=f)"
   ]
  },
  {
   "cell_type": "markdown",
   "id": "0ec03c45",
   "metadata": {},
   "source": [
    "<div align=\"center\">\n",
    "\n",
    "# **Escape Sequences!**\n",
    "\n",
    "</div>"
   ]
  },
  {
   "cell_type": "code",
   "execution_count": 8,
   "id": "0f464a6b",
   "metadata": {},
   "outputs": [
    {
     "name": "stdout",
     "output_type": "stream",
     "text": [
      "Hello,\n",
      "World!\n"
     ]
    }
   ],
   "source": [
    "print(\"Hello,\\nWorld!\")     # Newline"
   ]
  },
  {
   "cell_type": "code",
   "execution_count": 9,
   "id": "0515a337",
   "metadata": {},
   "outputs": [
    {
     "name": "stdout",
     "output_type": "stream",
     "text": [
      "Hello,\tWorld!\n"
     ]
    }
   ],
   "source": [
    "print(\"Hello,\\tWorld!\")     # Tab"
   ]
  },
  {
   "cell_type": "code",
   "execution_count": 10,
   "id": "d1a70aa3",
   "metadata": {},
   "outputs": [
    {
     "name": "stdout",
     "output_type": "stream",
     "text": [
      "HelloWorld!\n"
     ]
    }
   ],
   "source": [
    "print(\"Hello,\\bWorld!\")     # Backspace (removes 'o')"
   ]
  },
  {
   "cell_type": "code",
   "execution_count": 11,
   "id": "106be2e9",
   "metadata": {},
   "outputs": [
    {
     "name": "stdout",
     "output_type": "stream",
     "text": [
      "World!\n"
     ]
    }
   ],
   "source": [
    "print(\"Hello,\\rWorld!\")     # Carriage return (overwrites 'Hello,')"
   ]
  },
  {
   "cell_type": "code",
   "execution_count": 12,
   "id": "04572847",
   "metadata": {},
   "outputs": [
    {
     "name": "stdout",
     "output_type": "stream",
     "text": [
      "Hello,\\World!\n"
     ]
    }
   ],
   "source": [
    "print(\"Hello,\\\\World!\")     # Literal backslash"
   ]
  },
  {
   "cell_type": "markdown",
   "id": "71df7af1",
   "metadata": {},
   "source": [
    "<div align=\"center\">\n",
    "\n",
    "# **Quote Types in Python**\n",
    "</div>"
   ]
  },
  {
   "cell_type": "code",
   "execution_count": 13,
   "id": "71870d53",
   "metadata": {},
   "outputs": [
    {
     "name": "stdout",
     "output_type": "stream",
     "text": [
      "Hello, World!\n"
     ]
    }
   ],
   "source": [
    "print('Hello, World!') # Single quotes"
   ]
  },
  {
   "cell_type": "code",
   "execution_count": 14,
   "id": "a54c14f7",
   "metadata": {},
   "outputs": [
    {
     "name": "stdout",
     "output_type": "stream",
     "text": [
      "Hello, World!\n"
     ]
    }
   ],
   "source": [
    "print(\"Hello, World!\") # Double quotes"
   ]
  },
  {
   "cell_type": "code",
   "execution_count": 15,
   "id": "b9067050",
   "metadata": {},
   "outputs": [
    {
     "name": "stdout",
     "output_type": "stream",
     "text": [
      "Hello,\n",
      "World!\n",
      "Neon\n"
     ]
    }
   ],
   "source": [
    "print(\"\"\"Hello,\n",
    "World!\n",
    "Neon\"\"\")   # Multiline with triple double-quotes\n"
   ]
  },
  {
   "cell_type": "code",
   "execution_count": 16,
   "id": "0738db87",
   "metadata": {},
   "outputs": [
    {
     "name": "stdout",
     "output_type": "stream",
     "text": [
      "Hello,\n",
      "World!\n",
      "Neon\n"
     ]
    }
   ],
   "source": [
    "print('''Hello,\n",
    "World!\n",
    "Neon''')   # Multiline with triple single-quotes"
   ]
  },
  {
   "cell_type": "code",
   "execution_count": 17,
   "id": "8254a292",
   "metadata": {},
   "outputs": [
    {
     "name": "stdout",
     "output_type": "stream",
     "text": [
      "He said, 'Hello, World!'\n"
     ]
    }
   ],
   "source": [
    "print(\"He said, 'Hello, World!'\") # Single quotes inside double quotes"
   ]
  },
  {
   "cell_type": "code",
   "execution_count": 18,
   "id": "42c7bee2",
   "metadata": {},
   "outputs": [
    {
     "name": "stdout",
     "output_type": "stream",
     "text": [
      "She replied, \"Hello, World!\"\n"
     ]
    }
   ],
   "source": [
    "print('She replied, \"Hello, World!\"') # Double quotes inside single quotes"
   ]
  },
  {
   "cell_type": "markdown",
   "id": "36353eea",
   "metadata": {},
   "source": [
    "<div align=\"center\">\n",
    "\n",
    "# **Raw Strings**\n",
    "\n",
    "</div>"
   ]
  },
  {
   "cell_type": "code",
   "execution_count": 19,
   "id": "264bfc47",
   "metadata": {},
   "outputs": [
    {
     "name": "stdout",
     "output_type": "stream",
     "text": [
      "C:\\newfolder\\hello.txt\n"
     ]
    }
   ],
   "source": [
    "print(\"C:\\\\newfolder\\\\hello.txt\")       # Escaped version"
   ]
  },
  {
   "cell_type": "code",
   "execution_count": 20,
   "id": "f9dc899d",
   "metadata": {},
   "outputs": [
    {
     "name": "stdout",
     "output_type": "stream",
     "text": [
      "C:\\newfolder\\hello.txt\n"
     ]
    }
   ],
   "source": [
    "print(r\"C:\\newfolder\\hello.txt\")        # Raw string version"
   ]
  },
  {
   "cell_type": "markdown",
   "id": "7ce0bb80",
   "metadata": {},
   "source": [
    "<div align=\"center\">\n",
    "\n",
    "# **Regex example with Raw String**\n",
    "\n",
    "</div>"
   ]
  },
  {
   "cell_type": "code",
   "execution_count": 21,
   "id": "5022d7cd",
   "metadata": {},
   "outputs": [
    {
     "name": "stdout",
     "output_type": "stream",
     "text": [
      "['Hello, World!']\n"
     ]
    }
   ],
   "source": [
    "import re\n",
    "pattern = r\"\\bHello,\\sWorld!\"\n",
    "print(re.findall(pattern, \"Hello, World!\"))"
   ]
  },
  {
   "cell_type": "markdown",
   "id": "aff9b91e",
   "metadata": {},
   "source": [
    " <div align=\"center\">\n",
    "\n",
    "# **Formatting Strings**\n",
    "\n",
    "</div>"
   ]
  },
  {
   "cell_type": "code",
   "execution_count": 22,
   "id": "4e9fc64d",
   "metadata": {},
   "outputs": [],
   "source": [
    "name = \"World\"\n",
    "score = 99.9831"
   ]
  },
  {
   "cell_type": "code",
   "execution_count": 23,
   "id": "8f4e6d57",
   "metadata": {},
   "outputs": [
    {
     "name": "stdout",
     "output_type": "stream",
     "text": [
      "Hello, World! Score: 99.98\n"
     ]
    }
   ],
   "source": [
    "# Percent formatting\n",
    "print(\"Hello, %s! Score: %.2f\" % (name, score))"
   ]
  },
  {
   "cell_type": "code",
   "execution_count": 24,
   "id": "1170c68e",
   "metadata": {},
   "outputs": [
    {
     "name": "stdout",
     "output_type": "stream",
     "text": [
      "Hello, World! Score: 100.0\n"
     ]
    }
   ],
   "source": [
    "# str.format()\n",
    "print(\"Hello, {}! Score: {:.1f}\".format(name, score))"
   ]
  },
  {
   "cell_type": "code",
   "execution_count": 25,
   "id": "ad05b951",
   "metadata": {},
   "outputs": [
    {
     "name": "stdout",
     "output_type": "stream",
     "text": [
      "Hello, World! Score: 99.98\n",
      "Hello, WORLD!\n",
      "Hello, 🌍!\n"
     ]
    }
   ],
   "source": [
    "# f-string\n",
    "print(f\"Hello, {name}! Score: {score:.2f}\")\n",
    "print(f\"Hello, {'World'.upper()}!\")\n",
    "print(f\"Hello, 🌍!\")"
   ]
  },
  {
   "cell_type": "markdown",
   "id": "af6cccbc",
   "metadata": {},
   "source": [
    "### Activity challenge string"
   ]
  },
  {
   "cell_type": "code",
   "execution_count": 26,
   "id": "cd26b7dd",
   "metadata": {},
   "outputs": [
    {
     "name": "stdout",
     "output_type": "stream",
     "text": [
      "Hello, neon8052! Your XP is 9000.50.\n",
      "Hello, neon8052! Your XP is 9000.50.\n",
      "Hello, neon8052! Your XP is 9000.50.\n"
     ]
    }
   ],
   "source": [
    "\n",
    "discord_id = \"neon8052\"\n",
    "xp = 9000.5\n",
    "print(\"Hello, %s! Your XP is %.2f.\" % (discord_id, xp))\n",
    "print(\"Hello, {}! Your XP is {:.2f}.\".format(discord_id, xp))\n",
    "print(f\"Hello, {discord_id}! Your XP is {xp:.2f}.\")"
   ]
  },
  {
   "cell_type": "code",
   "execution_count": 27,
   "id": "560fff19",
   "metadata": {},
   "outputs": [
    {
     "name": "stdout",
     "output_type": "stream",
     "text": [
      "Hello 🌐 World\n",
      "Hello... World\n"
     ]
    }
   ],
   "source": [
    "print(\"Hello\", \"World\", sep=\" 🌐 \")\n",
    "print(\"Hello\", end=\"... \")\n",
    "print(\"World\")"
   ]
  },
  {
   "cell_type": "code",
   "execution_count": 28,
   "id": "3bf98464",
   "metadata": {},
   "outputs": [],
   "source": [
    "with open(\"output.txt\", \"w\") as f:\n",
    "    print(\"Hello, File World!\", file=f)\n"
   ]
  },
  {
   "cell_type": "code",
   "execution_count": 29,
   "id": "747f62f0",
   "metadata": {},
   "outputs": [
    {
     "name": "stdout",
     "output_type": "stream",
     "text": [
      "Done!        \n"
     ]
    }
   ],
   "source": [
    "import time\n",
    "for i in range(0,101):\n",
    "    print(f\"Loading {i}%\", end=\"\\r\", flush=True)\n",
    "    time.sleep(0.04)  # Simulate loading time\n",
    "print(\"Done!        \")"
   ]
  },
  {
   "cell_type": "code",
   "execution_count": 30,
   "id": "68de7782",
   "metadata": {},
   "outputs": [
    {
     "name": "stdout",
     "output_type": "stream",
     "text": [
      "Loading |████████████████████████████████████████| 100%\n",
      "Done! 🎉\n"
     ]
    }
   ],
   "source": [
    "import time\n",
    "\n",
    "def fancy_loading_bar(total=100, width=40, delay=0.03):\n",
    "    for i in range(total + 1):\n",
    "        filled = int(width * i / total)\n",
    "        bar = \"█\" * filled + \"-\" * (width - filled)\n",
    "        print(f\"\\rLoading |{bar}| {i:3d}%\", end=\"\", flush=True)\n",
    "        time.sleep(delay)\n",
    "    print(\"\\nDone! 🎉\")\n",
    "\n",
    "fancy_loading_bar()"
   ]
  },
  {
   "cell_type": "code",
   "execution_count": 31,
   "id": "23e5b23b",
   "metadata": {},
   "outputs": [
    {
     "name": "stdout",
     "output_type": "stream",
     "text": [
      "🚀 Initializing Hello World Installer...\n",
      "\n",
      "📦 Allocating string buffer |████████████████████████████████████| 100%\n",
      "✨ Injecting optimism      |████████████████████████████████████| 100%\n",
      "🌐 Patching Unicode support |████████████████████████████████████| 100%\n",
      "🧠 Formatting message      |████████████████████████████████████| 100%\n",
      "🎨 Translating to emoji    |████████████████████████████████████| 100%\n",
      "🔓 Finalizing output       |████████████████████████████████████| 100%\n",
      "\n",
      "✅ Launching sequence complete!\n",
      "\n",
      "🖨️ Output: Hello, World! 🌍\n",
      "\n"
     ]
    }
   ],
   "source": [
    "import time\n",
    "\n",
    "def spinner_animation(message, duration=2):\n",
    "    spinner = ['|', '/', '-', '\\\\']\n",
    "    t_end = time.time() + duration\n",
    "    i = 0\n",
    "    while time.time() < t_end:\n",
    "        print(f'\\r{message} {spinner[i % len(spinner)]}', end='', flush=True)\n",
    "        time.sleep(0.1)\n",
    "        i += 1\n",
    "    print('\\r' + ' ' * (len(message) + 2), end='\\r')  # Clear line\n",
    "\n",
    "def bouncing_dots(message, cycles=3):\n",
    "    for _ in range(cycles):\n",
    "        for dots in range(4):\n",
    "            print(f'\\r{message}{\".\" * dots}{\" \" * (3 - dots)}', end='', flush=True)\n",
    "            time.sleep(0.3)\n",
    "    print('\\r' + ' ' * (len(message) + 3), end='\\r')\n",
    "\n",
    "def progress_bar(label, total=100, width=30, delay=0.05):\n",
    "    for i in range(total + 1):\n",
    "        filled = int(width * i / total)\n",
    "        bar = '█' * filled + '-' * (width - filled)\n",
    "        percent = f'{i:3d}%'\n",
    "        print(f'\\r{label:<25} |{bar}| {percent}', end='', flush=True)\n",
    "        time.sleep(delay)\n",
    "    print()\n",
    "\n",
    "def complex_loader():\n",
    "    print(\"🚀 Initializing Hello World Installer...\\n\")\n",
    "    spinner_animation(\"🔄 Spinning up core modules\", duration=2)\n",
    "    bouncing_dots(\"🔌 Connecting to World module\", cycles=3)\n",
    "    spinner_animation(\"⚙️  Stabilizing greeting protocol\", duration=1.5)\n",
    "\n",
    "    tasks = [\n",
    "        \"📦 Allocating string buffer\",\n",
    "        \"✨ Injecting optimism\",\n",
    "        \"🌐 Patching Unicode support\",\n",
    "        \"🧠 Formatting message\",\n",
    "        \"🎨 Translating to emoji\",\n",
    "        \"🔓 Finalizing output\"\n",
    "    ]\n",
    "\n",
    "    for task in tasks:\n",
    "        progress_bar(task, total=100, width=36, delay=0.015)\n",
    "\n",
    "    print(\"\\n✅ Launching sequence complete!\")\n",
    "    time.sleep(0.7)\n",
    "    print(\"\\n🖨️ Output: Hello, World! 🌍\\n\")\n",
    "\n",
    "complex_loader()\n"
   ]
  },
  {
   "cell_type": "code",
   "execution_count": 32,
   "id": "a4dbcf83",
   "metadata": {},
   "outputs": [
    {
     "name": "stdout",
     "output_type": "stream",
     "text": [
      "Hello, World! 🌍\n"
     ]
    }
   ],
   "source": [
    "def type_out(text, delay=0.5):\n",
    "    for char in text:\n",
    "        print(char, end='', flush=True)\n",
    "        time.sleep(delay)\n",
    "    print()\n",
    "\n",
    "type_out(\"Hello, World! 🌍\")\n"
   ]
  },
  {
   "cell_type": "code",
   "execution_count": 33,
   "id": "ba2b3bb4",
   "metadata": {},
   "outputs": [
    {
     "name": "stdout",
     "output_type": "stream",
     "text": [
      "✨ Hello, World! ✨\n"
     ]
    }
   ],
   "source": [
    "def blinking_text(text, times=5, delay=0.4):\n",
    "    for _ in range(times):\n",
    "        print(f'\\r{text}', end='', flush=True)\n",
    "        time.sleep(delay)\n",
    "        print('\\r' + ' ' * len(text), end='', flush=True)\n",
    "        time.sleep(delay)\n",
    "    print(f'\\r{text}')  # Leave it showing at the end\n",
    "\n",
    "blinking_text(\"✨ Hello, World! ✨\")\n"
   ]
  },
  {
   "cell_type": "code",
   "execution_count": 34,
   "id": "d9740801",
   "metadata": {},
   "outputs": [
    {
     "name": "stdout",
     "output_type": "stream",
     "text": [
      "                               \n"
     ]
    }
   ],
   "source": [
    "def marquee(text, width=30, delay=0.1):\n",
    "    padded = ' ' * width + text + ' ' * width\n",
    "    for i in range(len(padded) - width + 1):\n",
    "        print('\\r' + padded[i:i+width], end='', flush=True)\n",
    "        time.sleep(delay)\n",
    "    print()\n",
    "\n",
    "marquee(\"🌍 Hello, World! This is Neon.\")\n"
   ]
  },
  {
   "cell_type": "code",
   "execution_count": 1,
   "id": "bb9841de",
   "metadata": {},
   "outputs": [
    {
     "name": "stdout",
     "output_type": "stream",
     "text": [
      "            .         ░  ﾘ    ░        .          ░ﾑ .         ﾒ  ﾀ      3     .\n",
      "                      .  ﾎ    ﾀ           .  .    .  ░     ░      ｾ  .         ░\n",
      "            ░   ░     ░ .5    ﾋ       ..  ░  .    ░  ｽ     ..     ﾍ  .         ░\n",
      "            ..  ░ .   ░.░4    ﾚ       ..  ░  ░    ﾔ  ｹ    .ﾊ░   .  . ░         ░\n",
      "            .   ░ .   ﾆ .     ﾉ       ﾒ░. ░  ░    @       .ﾑ░  .   ░ .         .\n",
      "       .    .░  6 .   ﾁ ｽ     ｿ       ｲ.  .  3            . ﾀ   ░  ░ .         ░\n",
      "  .         ..  5 ░   ｾ ﾛ         ░    ░  .  ｳ              @  ░5  ░ .         5\n",
      " .     .  ..ｾ░  ﾛ ﾚ   9 @.     .  .    ░. ﾛ         .     .    ﾛﾙ  ░ ﾈ         ﾏ\n",
      ". ░    ░   .ｽ░    ﾉ    ░       .  ░    ░░ ﾀ               .    ｶ   ░ 5         ﾚ\n",
      "░.░    .  .░ﾘﾗ         . ░     .  ░    ｷ░ 7         .     .       .ﾑ ｷ         ﾈ\n",
      "ﾒ ░    ░  .░ｾﾛ         . .        ░    ﾀ░ 5         .     .       .8 ｲ          \n",
      "ﾍ.░    ░  ░░ﾏﾒ         ░       .  ...........       .     ░       .ｱ 2          \n",
      "░░6    ░  ░ﾐ           2 .     ░  HELLO WORLD. .    .     8       ░ﾂ     .      \n",
      "ﾃ░ｾ    6  .9           ﾀ .     .  ...........  .    .     ﾈ       ░ﾘ            \n",
      "ﾝ░     ﾉ  ﾚｸ           ｸ ░     .  ﾔ .  .ｺ      .    9     ﾇ       ░      .      \n",
      "ﾅ░        ﾕ░           7 .  .  ░  ░ .   ﾄ    . .░   ﾄ     ｾ       ░      . ░    \n",
      " ░     . .ﾘ░           . ﾓ  ░  ░  ░          ░ .ﾃ   ｦ     ﾆ       ﾒ      ░ ░    \n",
      " ｴ     .  ｳ1           . ﾁ  .  ﾔ  ░ .  ░     ░ ░                  ｻ      . .    \n",
      " ﾌ     . ░ ﾑ             @  ﾐ  ﾆ  2 ░  ░     ｼ ..       .                ░ ｷ    \n",
      " ｲ     ░ . ﾙ           ░    ｿ  ｶ  ｸ ░  ░     ﾋ ░.       ﾁ    .  .        . ｺ    \n",
      " ﾆ     . ｱ ｼ           .       ｷ  ｼ ░  ░       ｷ        ﾋ       .        .      \n",
      "       ░ ﾇ             ░            .  ﾚ       ﾁ             .  .        ░      \n",
      "       . .             8            ░  ｰ       ｲ.            ░  .        ﾌ      \n",
      " .     ﾄ ░             ﾄ   .        ﾐ  ﾔ        ░     .      ░  ░       .ｳ      \n",
      "Animation stopped.\n"
     ]
    }
   ],
   "source": [
    "import numpy as np\n",
    "import os\n",
    "import time\n",
    "import math\n",
    "import random\n",
    "import sys\n",
    "\n",
    "# Screen dimensions\n",
    "screen_width = 80\n",
    "screen_height = 24\n",
    "\n",
    "# Animation parameters\n",
    "animation_speed = 0.05\n",
    "\n",
    "# Text to display\n",
    "text = \"I AM Bishal Das\"\n",
    "\n",
    "# Enhanced Matrix animation parameters\n",
    "text_appear_time = 2.0     # When the main text appears (in seconds)\n",
    "text_pulse_speed = 1.5     # How fast the text pulses\n",
    "\n",
    "# Matrix rain parameters\n",
    "num_drops = screen_width // 2  # Number of rain drops active at any time\n",
    "drop_speed_range = (10, 25)   # Range of drop speeds (characters per second)\n",
    "min_trail_length = 4          # Minimum trail length\n",
    "max_trail_length = 15         # Maximum trail length\n",
    "\n",
    "# Matrix character set (mix of ASCII, katakana, and other symbols)\n",
    "matrix_chars = \"ﾊﾐﾋｰｳｼﾅﾓﾆｻﾜﾂｵﾘｱﾎﾃﾏｹﾒｴｶｷﾑﾕﾗｾﾈｽﾀﾇﾍｦｲｸｺｿﾁﾄﾉﾌﾔﾖﾙﾚﾛﾝ0123456789\"\n",
    "highlight_chars = \"00\"  # Characters that can be highlighted (brighter)\n",
    "\n",
    "# Detect if running in Jupyter/IPython\n",
    "def is_notebook():\n",
    "    try:\n",
    "        shell = globals().get('get_ipython', lambda: None)().__class__.__name__\n",
    "        if shell == 'ZMQInteractiveShell':  # Jupyter notebook or qtconsole\n",
    "            return True\n",
    "        elif shell == 'TerminalInteractiveShell':  # Terminal IPython\n",
    "            return True\n",
    "        else:\n",
    "            return False\n",
    "    except Exception:\n",
    "        return False  # Regular Python interpreter\n",
    "\n",
    "\n",
    "class RainDrop:\n",
    "    \"\"\"Represents a single rain drop in the Matrix animation.\"\"\"\n",
    "    \n",
    "    def __init__(self, x, screen_height):\n",
    "        self.x = x\n",
    "        self.y = random.randint(-screen_height // 2, screen_height - 1)  # Start above or on screen\n",
    "        self.speed = random.uniform(*drop_speed_range)  # Characters per second\n",
    "        self.trail_length = random.randint(min_trail_length, max_trail_length)\n",
    "        self.chars = []  # Characters in this raindrop's trail\n",
    "        \n",
    "        # Fill the trail with random characters\n",
    "        for _ in range(self.trail_length):\n",
    "            self.chars.append(random.choice(matrix_chars))\n",
    "        \n",
    "        # Highlight chance - gives some raindrops a \"featured\" look\n",
    "        self.is_highlighted = random.random() < 0.1\n",
    "        \n",
    "        # Character change frequency\n",
    "        self.change_freq = random.uniform(0.1, 0.5)  # Lower means more frequent changes\n",
    "    \n",
    "    def update(self, dt):\n",
    "        \"\"\"Update raindrop position based on time delta.\"\"\"\n",
    "        # Move the drop down\n",
    "        self.y += self.speed * dt\n",
    "        \n",
    "        # Randomize characters sometimes\n",
    "        if random.random() < self.change_freq:\n",
    "            # Change the head character (leading character)\n",
    "            self.chars[0] = random.choice(matrix_chars)\n",
    "            \n",
    "            # Maybe change a random character in the trail\n",
    "            if random.random() < 0.3:\n",
    "                idx = random.randint(1, self.trail_length - 1)\n",
    "                if idx < len(self.chars):\n",
    "                    self.chars[idx] = random.choice(matrix_chars)\n",
    "        \n",
    "        # Reset if it's gone off-screen\n",
    "        if self.y - self.trail_length > screen_height:\n",
    "            self.y = random.randint(-self.trail_length, 0)\n",
    "            self.speed = random.uniform(*drop_speed_range)\n",
    "            self.trail_length = random.randint(min_trail_length, max_trail_length)\n",
    "            self.is_highlighted = random.random() < 0.1\n",
    "            \n",
    "            # Resize the chars list if needed\n",
    "            if len(self.chars) < self.trail_length:\n",
    "                # Add more chars if the trail got longer\n",
    "                for _ in range(self.trail_length - len(self.chars)):\n",
    "                    self.chars.append(random.choice(matrix_chars))\n",
    "            else:\n",
    "                # Truncate if the trail got shorter\n",
    "                self.chars = self.chars[:self.trail_length]\n",
    "    \n",
    "    def draw(self, frame):\n",
    "        \"\"\"Draw the raindrop on the frame.\"\"\"\n",
    "        for i in range(self.trail_length):\n",
    "            y = int(self.y) - i\n",
    "            if 0 <= y < screen_height and 0 <= self.x < screen_width:\n",
    "                # Get the character for this position\n",
    "                if i < len(self.chars):\n",
    "                    char = self.chars[i]\n",
    "                else:\n",
    "                    char = random.choice(matrix_chars)\n",
    "                \n",
    "                # Determine the brightness based on position in trail\n",
    "                if i == 0:  # Head of the rain drop\n",
    "                    if self.is_highlighted or char in highlight_chars:\n",
    "                        frame[y, self.x] = '@'  # Extra bright\n",
    "                    else:\n",
    "                        frame[y, self.x] = char\n",
    "                elif i < 2:  # Near the head (bright)\n",
    "                    frame[y, self.x] = char\n",
    "                elif i < self.trail_length // 3:  # Upper part of trail\n",
    "                    frame[y, self.x] = char if random.random() < 0.8 else '░'\n",
    "                elif i < 2 * self.trail_length // 3:  # Middle part\n",
    "                    frame[y, self.x] = '░' if random.random() < 0.7 else '.'\n",
    "                else:  # Tail end (fading out)\n",
    "                    frame[y, self.x] = '.' if random.random() < 0.5 else ' '\n",
    "\n",
    "\n",
    "def clear_screen():\n",
    "    \"\"\"Clear the terminal screen based on OS.\"\"\"\n",
    "    os.system('cls' if os.name == 'nt' else 'clear')\n",
    "\n",
    "\n",
    "def clear_output_jupyter():\n",
    "    \"\"\"Clear output in Jupyter notebook.\"\"\"\n",
    "    try:\n",
    "        from IPython.display import clear_output\n",
    "        clear_output(wait=True)\n",
    "    except ImportError:\n",
    "        print(\"\\033[H\\033[J\", end=\"\")  # Fallback to ANSI escape codes\n",
    "\n",
    "\n",
    "def render_frame(t, rain_drops):\n",
    "    \"\"\"Render a single frame of the animation at time t.\"\"\"\n",
    "    # Create empty frame\n",
    "    frame = np.full((screen_height, screen_width), ' ')\n",
    "    \n",
    "    # Update and draw all rain drops\n",
    "    for drop in rain_drops:\n",
    "        drop.update(animation_speed)\n",
    "        drop.draw(frame)\n",
    "    \n",
    "    # Add the main text in the middle after some time\n",
    "    if t > text_appear_time:\n",
    "        text_x = (screen_width - len(text)) // 2\n",
    "        text_y = screen_height // 2\n",
    "        \n",
    "        # Make the text pulse/glow\n",
    "        pulse = abs(math.sin(t * text_pulse_speed))\n",
    "        \n",
    "        # Draw text with glow effect\n",
    "        for i, char in enumerate(text):\n",
    "            if 0 <= text_x + i < screen_width:\n",
    "                # Main character\n",
    "                frame[text_y, text_x + i] = char\n",
    "                \n",
    "                # Add glow around text based on pulse intensity\n",
    "                if pulse > 0.7:\n",
    "                    # Add glow above and below\n",
    "                    if text_y > 0:\n",
    "                        frame[text_y - 1, text_x + i] = '.'\n",
    "                    if text_y < screen_height - 1:\n",
    "                        frame[text_y + 1, text_x + i] = '.'\n",
    "                        \n",
    "                    # Add glow to sides if strong pulse\n",
    "                    if pulse > 0.9:\n",
    "                        if text_x + i > 0:\n",
    "                            frame[text_y, text_x + i - 1] = '.'\n",
    "                        if text_x + i < screen_width - 1:\n",
    "                            frame[text_y, text_x + i + 1] = '.'\n",
    "    \n",
    "    return frame\n",
    "\n",
    "\n",
    "def print_frame(frame):\n",
    "    \"\"\"Print the frame to the terminal.\"\"\"\n",
    "    output = ''\n",
    "    for row in frame:\n",
    "        output += ''.join(row) + '\\n'\n",
    "    return output\n",
    "\n",
    "\n",
    "def main():\n",
    "    try:\n",
    "        # Initialize rain drops\n",
    "        rain_drops = []\n",
    "        for _ in range(num_drops):\n",
    "            x = random.randint(0, screen_width - 1)\n",
    "            rain_drops.append(RainDrop(x, screen_height))\n",
    "        \n",
    "        # Check if running in Jupyter/IPython\n",
    "        notebook_mode = is_notebook()\n",
    "        \n",
    "        if not notebook_mode:\n",
    "            clear_screen()\n",
    "            # Setup terminal for Windows\n",
    "            if os.name == 'nt':\n",
    "                try:\n",
    "                    from ctypes import windll\n",
    "                    kernel32 = windll.kernel32\n",
    "                    kernel32.SetConsoleMode(kernel32.GetStdHandle(-11), 7)\n",
    "                except:\n",
    "                    pass  # Ignore if setup fails\n",
    "        \n",
    "        # Main animation loop - run for a limited number of frames in Jupyter\n",
    "        frame_count = 0\n",
    "        max_frames = 1000 if notebook_mode else float('inf')  # Limit frames in notebook mode\n",
    "        \n",
    "        while frame_count < max_frames:\n",
    "            # Calculate time parameter\n",
    "            t = frame_count * animation_speed\n",
    "            \n",
    "            # Render frame\n",
    "            frame = render_frame(t, rain_drops)\n",
    "            frame_text = print_frame(frame)\n",
    "            \n",
    "            # Clear previous output in Jupyter/IPython\n",
    "            if notebook_mode:\n",
    "                clear_output_jupyter()\n",
    "                print(frame_text, end='')\n",
    "            else:\n",
    "                # Move cursor to home position in terminal\n",
    "                print(\"\\033[H\", end=\"\")\n",
    "                print(frame_text, end='')\n",
    "            \n",
    "            # Occasionally add new rain drops to replace ones that became inactive\n",
    "            if frame_count % 10 == 0 and len(rain_drops) < screen_width:\n",
    "                # Find an x position that's not too crowded\n",
    "                for _ in range(5):  # Try 5 times\n",
    "                    x = random.randint(0, screen_width - 1)\n",
    "                    if sum(1 for drop in rain_drops if drop.x == x) < 2:  # If less than 2 drops at this x\n",
    "                        rain_drops.append(RainDrop(x, screen_height))\n",
    "                        break\n",
    "            \n",
    "            # Control animation speed\n",
    "            time.sleep(animation_speed)\n",
    "            \n",
    "            frame_count += 1\n",
    "            \n",
    "            # Allow early exit in notebook mode\n",
    "            if notebook_mode and frame_count % 50 == 0:\n",
    "                sys.stdout.flush()  # Ensure output is displayed\n",
    "                \n",
    "    except KeyboardInterrupt:\n",
    "        if not is_notebook():\n",
    "            clear_screen()\n",
    "        print(\"Animation stopped.\")\n",
    "    finally:\n",
    "        # Reset cursor position in terminal mode\n",
    "        if not is_notebook():\n",
    "            print(\"\\033[H\\033[J\", end=\"\")\n",
    "\n",
    "\n",
    "if __name__ == \"__main__\":\n",
    "    main()"
   ]
  }
 ],
 "metadata": {
  "kernelspec": {
   "display_name": ".venv",
   "language": "python",
   "name": "python3"
  },
  "language_info": {
   "codemirror_mode": {
    "name": "ipython",
    "version": 3
   },
   "file_extension": ".py",
   "mimetype": "text/x-python",
   "name": "python",
   "nbconvert_exporter": "python",
   "pygments_lexer": "ipython3",
   "version": "3.10.10"
  }
 },
 "nbformat": 4,
 "nbformat_minor": 5
}
