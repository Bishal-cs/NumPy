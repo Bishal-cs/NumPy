{
 "cells": [
  {
   "cell_type": "markdown",
   "id": "eea436c7",
   "metadata": {},
   "source": [
    "## NumPy Array Operations"
   ]
  },
  {
   "cell_type": "code",
   "execution_count": 2,
   "id": "3678c52b",
   "metadata": {},
   "outputs": [],
   "source": [
    "import numpy as np\n",
    "import time "
   ]
  },
  {
   "cell_type": "code",
   "execution_count": 4,
   "id": "524a4717",
   "metadata": {},
   "outputs": [
    {
     "name": "stdout",
     "output_type": "stream",
     "text": [
      "Basic Slicing: [2 3 4 5 6 7 8 9]\n",
      "With Step: [2 8]\n",
      "Negative indexing: 10\n"
     ]
    }
   ],
   "source": [
    "# Slicing in np array \n",
    "arr = np.array([1, 2, 3, 4, 5, 6, 7, 8, 9, 10, 11])\n",
    "print(f\"Basic Slicing: {arr[1:9]}\")\n",
    "print(f\"With Step: {arr[1:9:6]}\")\n",
    "print(f\"Negative indexing: {arr[-2]}\")\n"
   ]
  },
  {
   "cell_type": "code",
   "execution_count": 10,
   "id": "b1c8f3b3",
   "metadata": {},
   "outputs": [
    {
     "name": "stdout",
     "output_type": "stream",
     "text": [
      "Specific element 6\n",
      "Entire Row: [5 6 8]\n",
      "ENtire Collum [1 5 6]\n"
     ]
    }
   ],
   "source": [
    "# Slicing in np 2d array \n",
    "# print Specific element in python:\n",
    "arr_2d = np.array([[1, 2, 3],\n",
    "                   [5, 6, 8],\n",
    "                   [6, 5, 2]]) \n",
    "print(\"Specific element\", arr_2d[1, 1])\n",
    "print(\"Entire Row:\", arr_2d[1])\n",
    "print(\"ENtire Column\", arr_2d[:, 0]) "
   ]
  },
  {
   "cell_type": "markdown",
   "id": "a3ecef09",
   "metadata": {},
   "source": [
    "### Sorting.....\n"
   ]
  },
  {
   "cell_type": "code",
   "execution_count": 12,
   "id": "cf0677bd",
   "metadata": {},
   "outputs": [
    {
     "name": "stdout",
     "output_type": "stream",
     "text": [
      "Sorted array [ 1  2  3  3  4  5  5  5  6  7 33 77 85 88]\n",
      "Sorted 2D array by column [[1 2 3]\n",
      " [5 6 8]\n",
      " [2 5 6]]\n"
     ]
    }
   ],
   "source": [
    "unsorted_arr = np.array([7, 5, 4, 6, 33, 5, 3, 5, 77, 88, 85, 2, 1, 3])\n",
    "print(\"Sorted array\", np.sort(unsorted_arr))\n",
    "unsorted_arr_2d = np.array([[1, 2, 3],\n",
    "                   [5, 6, 8],\n",
    "                   [6, 5, 2]]) \n",
    "print(\"Sorted 2D array by column\", np.sort(unsorted_arr_2d, axis=1)) "
   ]
  }
 ],
 "metadata": {
  "kernelspec": {
   "display_name": ".venv",
   "language": "python",
   "name": "python3"
  },
  "language_info": {
   "codemirror_mode": {
    "name": "ipython",
    "version": 3
   },
   "file_extension": ".py",
   "mimetype": "text/x-python",
   "name": "python",
   "nbconvert_exporter": "python",
   "pygments_lexer": "ipython3",
   "version": "3.10.10"
  }
 },
 "nbformat": 4,
 "nbformat_minor": 5
}
