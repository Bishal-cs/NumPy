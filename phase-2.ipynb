{
 "cells": [
  {
   "cell_type": "markdown",
   "id": "eea436c7",
   "metadata": {},
   "source": [
    "## NumPy Array Operations"
   ]
  },
  {
   "cell_type": "code",
   "execution_count": 8,
   "id": "3678c52b",
   "metadata": {},
   "outputs": [],
   "source": [
    "import numpy as np\n",
    "import time "
   ]
  },
  {
   "cell_type": "code",
   "execution_count": 4,
   "id": "524a4717",
   "metadata": {},
   "outputs": [
    {
     "name": "stdout",
     "output_type": "stream",
     "text": [
      "Basic Slicing: [2 3 4 5 6 7 8 9]\n",
      "With Step: [2 8]\n",
      "Negative indexing: 10\n"
     ]
    }
   ],
   "source": [
    "# Slicing in np array \n",
    "arr = np.array([1, 2, 3, 4, 5, 6, 7, 8, 9, 10, 11])\n",
    "print(f\"Basic Slicing: {arr[1:9]}\")\n",
    "print(f\"With Step: {arr[1:9:6]}\")\n",
    "print(f\"Negative indexing: {arr[-2]}\")\n"
   ]
  },
  {
   "cell_type": "code",
   "execution_count": 10,
   "id": "b1c8f3b3",
   "metadata": {},
   "outputs": [
    {
     "name": "stdout",
     "output_type": "stream",
     "text": [
      "Specific element 6\n",
      "Entire Row: [5 6 8]\n",
      "ENtire Collum [1 5 6]\n"
     ]
    }
   ],
   "source": [
    "# Slicing in np 2d array \n",
    "# print Specific element in python:\n",
    "arr_2d = np.array([[1, 2, 3],\n",
    "                   [5, 6, 8],\n",
    "                   [6, 5, 2]]) \n",
    "print(\"Specific element\", arr_2d[1, 1])\n",
    "print(\"Entire Row:\", arr_2d[1])\n",
    "print(\"ENtire Column\", arr_2d[:, 0]) "
   ]
  },
  {
   "cell_type": "markdown",
   "id": "a3ecef09",
   "metadata": {},
   "source": [
    "### Array Sorting---------"
   ]
  },
  {
   "cell_type": "code",
   "execution_count": 12,
   "id": "cf0677bd",
   "metadata": {},
   "outputs": [
    {
     "name": "stdout",
     "output_type": "stream",
     "text": [
      "Sorted array [ 1  2  3  3  4  5  5  5  6  7 33 77 85 88]\n",
      "Sorted 2D array by column [[1 2 3]\n",
      " [5 6 8]\n",
      " [2 5 6]]\n"
     ]
    }
   ],
   "source": [
    "unsorted_arr = np.array([7, 5, 4, 6, 33, 5, 3, 5, 77, 88, 85, 2, 1, 3])\n",
    "print(\"Sorted array\", np.sort(unsorted_arr))\n",
    "unsorted_arr_2d = np.array([[1, 2, 3],\n",
    "                   [5, 6, 8],\n",
    "                   [6, 5, 2]]) \n",
    "print(\"Sorted 2D array by column\", np.sort(unsorted_arr_2d, axis=1)) "
   ]
  },
  {
   "cell_type": "markdown",
   "id": "3d13d678",
   "metadata": {},
   "source": [
    "### Array Filter---------"
   ]
  },
  {
   "cell_type": "code",
   "execution_count": 9,
   "id": "391256c3",
   "metadata": {},
   "outputs": [
    {
     "name": "stdout",
     "output_type": "stream",
     "text": [
      "Even Np array: [4 2 6 8]\n"
     ]
    }
   ],
   "source": [
    "numbers = np.array([1, 3, 4, 2, 5, 6, 7, 8, 9, 3, 5])\n",
    "even_num = numbers[numbers % 2 == 0]\n",
    "print(f\"Even Np array: {even_num}\")"
   ]
  },
  {
   "cell_type": "markdown",
   "id": "1024b30c",
   "metadata": {},
   "source": [
    "### Filter with mask--------"
   ]
  },
  {
   "cell_type": "code",
   "execution_count": 10,
   "id": "8b3d5b5f",
   "metadata": {},
   "outputs": [
    {
     "name": "stdout",
     "output_type": "stream",
     "text": [
      "Numbers Grater than 5 [6 7 8 9]\n"
     ]
    }
   ],
   "source": [
    "mask = numbers > 5\n",
    "print(\"Numbers Grater than 5\", numbers[mask])"
   ]
  },
  {
   "cell_type": "markdown",
   "id": "e26f1347",
   "metadata": {},
   "source": [
    "### Fancy indexing vs np.where()-------"
   ]
  },
  {
   "cell_type": "code",
   "execution_count": 11,
   "id": "4e7231b7",
   "metadata": {},
   "outputs": [
    {
     "name": "stdout",
     "output_type": "stream",
     "text": [
      "[7 9 5 4 3]\n",
      "(array([5, 6, 7, 8]),)\n",
      "NP where [6 7 8 9]\n"
     ]
    }
   ],
   "source": [
    "# index number for the np array value \n",
    "indeces = [6, 8, 4, 2, 1]\n",
    "# print the value using index numbers \n",
    "print(numbers[indeces])\n",
    "\n",
    "# using where mask the np array\n",
    "where_result = np.where(numbers > 5)\n",
    "print(where_result)\n",
    "print(\"NP where\", numbers[where_result]) "
   ]
  },
  {
   "cell_type": "code",
   "execution_count": null,
   "id": "430cbb02",
   "metadata": {},
   "outputs": [
    {
     "name": "stdout",
     "output_type": "stream",
     "text": [
      "['false' 'false' 'false' 'false' 'false' 'true' 'true' 'true' 'true'\n",
      " 'false' 'false']\n"
     ]
    }
   ],
   "source": [
    "# condition Np where array \n",
    "condition_array = np.where(numbers > 5, 'true', 'false')\n",
    "print(condition_array)"
   ]
  },
  {
   "cell_type": "markdown",
   "id": "0924c0b4",
   "metadata": {},
   "source": [
    "## Adding and Removing Data in NP array"
   ]
  },
  {
   "cell_type": "code",
   "execution_count": 43,
   "id": "316cb24b",
   "metadata": {},
   "outputs": [
    {
     "name": "stdout",
     "output_type": "stream",
     "text": [
      "array1 + array2 = [ 7  9 11 13 15]\n",
      "Combine / concatinate two array = [ 1  2  3  4  5  6  7  8  9 10]\n"
     ]
    }
   ],
   "source": [
    "# Marge Array's \n",
    "arr1 = np.array([1, 2, 3, 4, 5])\n",
    "arr2 = np.array([6, 7, 8, 9, 10])\n",
    "\n",
    "# adding 2 array's \n",
    "add_array = arr1 + arr2\n",
    "print(f\"array1 + array2 = {add_array}\")\n",
    "\n",
    "# combine two array's \n",
    "combined = np.concatenate((arr1, arr2))\n",
    "print(\"Combine / concatinate two array =\", combined)"
   ]
  }
 ],
 "metadata": {
  "kernelspec": {
   "display_name": ".venv",
   "language": "python",
   "name": "python3"
  },
  "language_info": {
   "codemirror_mode": {
    "name": "ipython",
    "version": 3
   },
   "file_extension": ".py",
   "mimetype": "text/x-python",
   "name": "python",
   "nbconvert_exporter": "python",
   "pygments_lexer": "ipython3",
   "version": "3.10.10"
  }
 },
 "nbformat": 4,
 "nbformat_minor": 5
}
