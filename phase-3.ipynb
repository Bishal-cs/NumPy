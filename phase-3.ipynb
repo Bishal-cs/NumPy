{
 "cells": [
  {
   "cell_type": "markdown",
   "id": "d9665b78",
   "metadata": {},
   "source": [
    "## Advance Operation with Business Examles"
   ]
  },
  {
   "cell_type": "code",
   "execution_count": 3,
   "id": "37229427",
   "metadata": {},
   "outputs": [],
   "source": [
    "import numpy as np\n",
    "import matplotlib.pyplot as plt"
   ]
  },
  {
   "cell_type": "code",
   "execution_count": 8,
   "id": "57621c11",
   "metadata": {},
   "outputs": [
    {
     "name": "stdout",
     "output_type": "stream",
     "text": [
      " ==== Zomato sales analysys ==== \n",
      "\n",
      "Shape of the array: \n",
      " (5, 5)\n",
      "Sample Data for 1st 3 restau:\n",
      "[[     1 150000 180000 220000 250000]\n",
      " [     2 120000 140000 160000 190000]\n",
      " [     3 200000 230000 260000 300000]]\n"
     ]
    }
   ],
   "source": [
    "# Data structure: [restaurant_id, 2021, 2022, 2023, 2024]\n",
    "sales_data = np.array([\n",
    "    [1, 150000, 180000, 220000, 250000], # Paradise Biryani\n",
    "    [2, 120000, 140000, 160000, 190000], # Beijing Bites\n",
    "    [3, 200000, 230000, 260000, 300000], # Pizza Hub\n",
    "    [4, 180000, 210000, 240000, 270000], # Burger Point\n",
    "    [5, 160000, 185000, 205000, 230000]# Chai Point\n",
    "])\n",
    "\n",
    "print(\" ==== Zomato sales analysys ==== \\n\")\n",
    "# print shape of the np array\n",
    "print(\"Shape of the array: \\n\",sales_data.shape)\n",
    "# print 1st 3 data of the elements\n",
    "print(f\"Sample Data for 1st 3 restau:\\n{sales_data[:3]}\")\n"
   ]
  },
  {
   "cell_type": "code",
   "execution_count": 17,
   "id": "9d776754",
   "metadata": {},
   "outputs": [
    {
     "name": "stdout",
     "output_type": "stream",
     "text": [
      "[     15  810000  945000 1085000 1240000]\n",
      "[ 810000  945000 1085000 1240000]\n",
      "The last 5 year total sales----\n",
      "4080000\n"
     ]
    }
   ],
   "source": [
    "# print total sales of the year \n",
    "# method 0\n",
    "print(np.sum(sales_data, axis = 0))\n",
    "# method 1 \n",
    "sale_yearly_sale = np.sum(sales_data[:, 1:], axis = 0)\n",
    "print(sale_yearly_sale)\n",
    "\n",
    "# total sum of the last 5 year \n",
    "print(f\"The last 5 year total sales----\\n{np.sum(sale_yearly_sale)}\")"
   ]
  }
 ],
 "metadata": {
  "kernelspec": {
   "display_name": ".venv",
   "language": "python",
   "name": "python3"
  },
  "language_info": {
   "codemirror_mode": {
    "name": "ipython",
    "version": 3
   },
   "file_extension": ".py",
   "mimetype": "text/x-python",
   "name": "python",
   "nbconvert_exporter": "python",
   "pygments_lexer": "ipython3",
   "version": "3.10.10"
  }
 },
 "nbformat": 4,
 "nbformat_minor": 5
}
